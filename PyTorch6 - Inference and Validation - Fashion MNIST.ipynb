{
 "cells": [
  {
   "cell_type": "markdown",
   "metadata": {},
   "source": [
    "### Inference and Validation"
   ]
  },
  {
   "cell_type": "code",
   "execution_count": 33,
   "metadata": {},
   "outputs": [],
   "source": [
    "import torch\n",
    "from torchvision import datasets, transforms\n",
    "\n",
    "# Deifne a transform to normalize the data\n",
    "transform = transforms.Compose([transforms.ToTensor(), transforms.Normalize((0.5,0.5,0.5), (0.5,0.5,0.5))])\n",
    "\n",
    "# Download and load the training data\n",
    "trainset = datasets.FashionMNIST('~/.pytorch/F_MNIST_date', download=True, train=True, transform = transform)\n",
    "trainloader = torch.utils.data.DataLoader(trainset, batch_size=64, shuffle=True)\n",
    "\n",
    "# Download and load the test data\n",
    "testset = datasets.FashionMNIST('~/.pytorch/F_MNIST_date', download=True, train=True, transform = transform)\n",
    "testloader = torch.utils.data.DataLoader(testset, batch_size=64, shuffle=True)\n"
   ]
  },
  {
   "cell_type": "code",
   "execution_count": 34,
   "metadata": {},
   "outputs": [],
   "source": [
    "from torch import nn, optim\n",
    "import torch.nn.functional as F\n",
    "\n",
    "# Define network architecture\n",
    "class Classifier(nn.Module):\n",
    "    def __init__(self):\n",
    "        super().__init__()\n",
    "        self.fc1 = nn.Linear(784, 256)\n",
    "        self.fc2 = nn.Linear(256, 128)\n",
    "        self.fc3 = nn.Linear(128, 64)\n",
    "        self.fc4 = nn.Linear(64, 10)\n",
    "        \n",
    "    def forward(self, x):\n",
    "        # make sure input tensor is flattened\n",
    "        x = x.view(x.shape[0],-1) # Dont need to flatten the input tensor in trainng loop \n",
    "        \n",
    "        x = F.relu(self.fc1(x))\n",
    "        x = F.relu(self.fc2(x))\n",
    "        x = F.relu(self.fc3(x))\n",
    "        x = F.log_softmax(self.fc4(x), dim=1) \n",
    "        \n",
    "        return x"
   ]
  },
  {
   "cell_type": "code",
   "execution_count": 35,
   "metadata": {},
   "outputs": [
    {
     "name": "stdout",
     "output_type": "stream",
     "text": [
      "torch.Size([64, 10])\n"
     ]
    }
   ],
   "source": [
    "model = Classifier()\n",
    "images, labels = next(iter(testloader))\n",
    "\n",
    "# Get the class probabilities\n",
    "ps = torch.exp(model(images))\n",
    "# Make sure the shape is appropriate, we should get 10 class probabilities for 64 examples\n",
    "print(ps.shape)"
   ]
  },
  {
   "cell_type": "code",
   "execution_count": 36,
   "metadata": {},
   "outputs": [
    {
     "name": "stdout",
     "output_type": "stream",
     "text": [
      "tensor([[5],\n",
      "        [5],\n",
      "        [5],\n",
      "        [5],\n",
      "        [5],\n",
      "        [5],\n",
      "        [5],\n",
      "        [5],\n",
      "        [5],\n",
      "        [5]])\n"
     ]
    }
   ],
   "source": [
    "top_p, top_class = ps.topk(1, dim=1)\n",
    "# Look at the most likely classes for the first 10 examples\n",
    "print(top_class[:10,:])\n",
    "# Not trained yet so making guesses randomly and displaying top 10 classes"
   ]
  },
  {
   "cell_type": "code",
   "execution_count": 39,
   "metadata": {},
   "outputs": [],
   "source": [
    "# compare predicted with true class\n",
    "equals = top_class == labels.view(*top_class.shape)\n",
    "#print(equals)"
   ]
  },
  {
   "cell_type": "code",
   "execution_count": 40,
   "metadata": {},
   "outputs": [
    {
     "name": "stdout",
     "output_type": "stream",
     "text": [
      "Accuracy: 10.9375%\n"
     ]
    }
   ],
   "source": [
    "# accuracy\n",
    "accuracy = torch.mean(equals.type(torch.FloatTensor))\n",
    "print(f'Accuracy: {accuracy.item()*100}%')"
   ]
  },
  {
   "cell_type": "markdown",
   "metadata": {},
   "source": [
    "The network is untrained so its's making random guesses and we should see an accuracy around 10%. Now let's train our netowrk and include our validation pass so we can measure how well the network is performing on the test set.\n",
    "Since we are not updating our parameters in the validation pass, we can speed up our code by turning off gradients using `torch.no_grad()`\n"
   ]
  },
  {
   "cell_type": "code",
   "execution_count": null,
   "metadata": {},
   "outputs": [],
   "source": []
  },
  {
   "cell_type": "code",
   "execution_count": 42,
   "metadata": {},
   "outputs": [
    {
     "name": "stdout",
     "output_type": "stream",
     "text": [
      "Epoch: 1/30.. Training Loss: 0.511.. Test Loss: 0.394.. Test Accuracy: 0.856..\n",
      "Accuracy: 80306.25%\n",
      "Epoch: 2/30.. Training Loss: 0.393.. Test Loss: 0.358.. Test Accuracy: 0.867..\n",
      "Accuracy: 81346.875%\n",
      "Epoch: 3/30.. Training Loss: 0.355.. Test Loss: 0.329.. Test Accuracy: 0.880..\n",
      "Accuracy: 82578.125%\n",
      "Epoch: 4/30.. Training Loss: 0.334.. Test Loss: 0.325.. Test Accuracy: 0.879..\n",
      "Accuracy: 82431.25%\n",
      "Epoch: 5/30.. Training Loss: 0.312.. Test Loss: 0.307.. Test Accuracy: 0.886..\n",
      "Accuracy: 83100.0%\n",
      "Epoch: 6/30.. Training Loss: 0.301.. Test Loss: 0.268.. Test Accuracy: 0.901..\n",
      "Accuracy: 84468.75%\n",
      "Epoch: 7/30.. Training Loss: 0.295.. Test Loss: 0.284.. Test Accuracy: 0.894..\n",
      "Accuracy: 83878.125%\n",
      "Epoch: 8/30.. Training Loss: 0.285.. Test Loss: 0.268.. Test Accuracy: 0.901..\n",
      "Accuracy: 84509.375%\n",
      "Epoch: 9/30.. Training Loss: 0.276.. Test Loss: 0.250.. Test Accuracy: 0.909..\n",
      "Accuracy: 85250.0%\n",
      "Epoch: 10/30.. Training Loss: 0.266.. Test Loss: 0.261.. Test Accuracy: 0.903..\n",
      "Accuracy: 84682.8125%\n",
      "Epoch: 11/30.. Training Loss: 0.260.. Test Loss: 0.244.. Test Accuracy: 0.910..\n",
      "Accuracy: 85354.6875%\n",
      "Epoch: 12/30.. Training Loss: 0.256.. Test Loss: 0.228.. Test Accuracy: 0.916..\n",
      "Accuracy: 85962.5%\n",
      "Epoch: 13/30.. Training Loss: 0.251.. Test Loss: 0.243.. Test Accuracy: 0.912..\n",
      "Accuracy: 85557.8125%\n",
      "Epoch: 14/30.. Training Loss: 0.243.. Test Loss: 0.229.. Test Accuracy: 0.912..\n",
      "Accuracy: 85575.0%\n",
      "Epoch: 15/30.. Training Loss: 0.240.. Test Loss: 0.215.. Test Accuracy: 0.920..\n",
      "Accuracy: 86250.0%\n",
      "Epoch: 16/30.. Training Loss: 0.236.. Test Loss: 0.203.. Test Accuracy: 0.924..\n",
      "Accuracy: 86673.4375%\n",
      "Epoch: 17/30.. Training Loss: 0.227.. Test Loss: 0.216.. Test Accuracy: 0.921..\n",
      "Accuracy: 86418.75%\n",
      "Epoch: 18/30.. Training Loss: 0.226.. Test Loss: 0.221.. Test Accuracy: 0.919..\n",
      "Accuracy: 86193.75%\n",
      "Epoch: 19/30.. Training Loss: 0.228.. Test Loss: 0.223.. Test Accuracy: 0.916..\n",
      "Accuracy: 85910.9375%\n",
      "Epoch: 20/30.. Training Loss: 0.220.. Test Loss: 0.214.. Test Accuracy: 0.922..\n",
      "Accuracy: 86510.9375%\n",
      "Epoch: 21/30.. Training Loss: 0.210.. Test Loss: 0.202.. Test Accuracy: 0.926..\n",
      "Accuracy: 86901.5625%\n",
      "Epoch: 22/30.. Training Loss: 0.209.. Test Loss: 0.195.. Test Accuracy: 0.928..\n",
      "Accuracy: 87010.9375%\n",
      "Epoch: 23/30.. Training Loss: 0.209.. Test Loss: 0.183.. Test Accuracy: 0.932..\n",
      "Accuracy: 87462.5%\n",
      "Epoch: 24/30.. Training Loss: 0.208.. Test Loss: 0.202.. Test Accuracy: 0.925..\n",
      "Accuracy: 86721.875%\n",
      "Epoch: 25/30.. Training Loss: 0.197.. Test Loss: 0.195.. Test Accuracy: 0.928..\n",
      "Accuracy: 87064.0625%\n",
      "Epoch: 26/30.. Training Loss: 0.199.. Test Loss: 0.180.. Test Accuracy: 0.932..\n",
      "Accuracy: 87409.375%\n",
      "Epoch: 27/30.. Training Loss: 0.196.. Test Loss: 0.189.. Test Accuracy: 0.930..\n",
      "Accuracy: 87264.0625%\n",
      "Epoch: 28/30.. Training Loss: 0.188.. Test Loss: 0.228.. Test Accuracy: 0.926..\n",
      "Accuracy: 86812.5%\n",
      "Epoch: 29/30.. Training Loss: 0.190.. Test Loss: 0.201.. Test Accuracy: 0.927..\n",
      "Accuracy: 86940.625%\n",
      "Epoch: 30/30.. Training Loss: 0.183.. Test Loss: 0.160.. Test Accuracy: 0.941..\n",
      "Accuracy: 88284.375%\n"
     ]
    }
   ],
   "source": [
    "model = Classifier()\n",
    "criterion = nn.NLLLoss()\n",
    "optimizer = optim.Adam(model.parameters(), lr=0.003)\n",
    "\n",
    "epochs = 30\n",
    "steps = 0\n",
    "\n",
    "train_losses, test_losses = [], []\n",
    "for e in range(epochs):\n",
    "    running_loss = 0\n",
    "    for images, labels in trainloader:\n",
    "        optimizer.zero_grad()\n",
    "        log_ps = model(images)\n",
    "        loss = criterion(log_ps, labels)\n",
    "        loss.backward()\n",
    "        optimizer.step()\n",
    "        \n",
    "        running_loss +=loss.item()\n",
    "        \n",
    "    else:\n",
    "        test_loss = 0\n",
    "        accuracy = 0\n",
    "        \n",
    "        # trun off gradients for validation, saves memory and computations\n",
    "        with torch.no_grad():\n",
    "            # validation pass here\n",
    "            for images, labels in testloader:\n",
    "                log_ps = model(images)\n",
    "                test_loss +=criterion(log_ps, labels)\n",
    "                \n",
    "                ps = torch.exp(log_ps)\n",
    "                top_p, top_class =ps.topk(1, dim=1) # gives top classes or predicted classes\n",
    "                equals = top_class == labels.view(*top_class.shape)\n",
    "                accuracy += torch.mean(equals.type(torch.FloatTensor))\n",
    "        train_losses.append(running_loss/len(trainloader))\n",
    "        test_losses.append(test_loss/len(testloader))\n",
    "        ## The validation pass and the validation accuracy\n",
    "        print(\"Epoch: {}/{}..\".format(e+1, epochs),\n",
    "              \"Training Loss: {:.3f}..\".format(running_loss/len(trainloader)),\n",
    "              \"Test Loss: {:.3f}..\".format(test_loss/len(testloader)),\n",
    "              \"Test Accuracy: {:.3f}..\".format(accuracy/len(testloader)),\n",
    "             )\n",
    "        "
   ]
  },
  {
   "cell_type": "code",
   "execution_count": 48,
   "metadata": {},
   "outputs": [
    {
     "data": {
      "image/png": "[encoded data removed]",
      "text/plain": [
       "<Figure size 432x288 with 1 Axes>"
      ]
     },
     "metadata": {
      "image/png": {
       "height": 250,
       "width": 380
      }
     },
     "output_type": "display_data"
    }
   ],
   "source": [
    "%matplotlib inline\n",
    "%config InlineBackend.figure_format = 'retina'\n",
    "\n",
    "import matplotlib.pyplot as plt\n",
    "\n",
    "plt.plot(train_losses, label = 'Trainign loss')\n",
    "\n",
    "plt.plot(test_losses, label='Validation loss')\n",
    "plt.legend(frameon=False)\n",
    "plt.show()"
   ]
  },
  {
   "cell_type": "code",
   "execution_count": null,
   "metadata": {},
   "outputs": [],
   "source": []
  }
 ],
 "metadata": {
  "kernelspec": {
   "display_name": "Python 3",
   "language": "python",
   "name": "python3"
  },
  "language_info": {
   "codemirror_mode": {
    "name": "ipython",
    "version": 3
   },
   "file_extension": ".py",
   "mimetype": "text/x-python",
   "name": "python",
   "nbconvert_exporter": "python",
   "pygments_lexer": "ipython3",
   "version": "3.6.5"
  }
 },
 "nbformat": 4,
 "nbformat_minor": 2
}
