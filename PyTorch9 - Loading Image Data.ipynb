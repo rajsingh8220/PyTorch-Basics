{
 "cells": [
  {
   "cell_type": "markdown",
   "metadata": {},
   "source": [
    "### Loading Image Data\n",
    "The easiest way to load image data is with datasets.ImageFolder from torchvision. In general you'll use `ImageFolder` like so:\n",
    "\n",
    "```\n",
    "dataset = datasets.ImageFolder('path/to/data', transform=transforms)\n",
    "```\n",
    "\n",
    "where `'path/to/data'` is the file path to the data directory and `transforms` is a list of processing steps buit with the `transforms` module from `torchvision`.\n",
    "\n",
    "#### Transforms\n",
    "When you load in the data with `ImageFolder`, you'll need to define some transforms. For example, the images are different sizes but we'll need then to all be the same for training. You can either resize them with `transforms.Resize()` or crop with `transforms.CenterCrop()`, `transforms.RandomResizeCrop()`, etc.\n",
    "    \n",
    "We'll also need to convert the images to PyTorch tensors with `transforms.ToTensor()`.\n",
    "\n",
    "Typically you'll combine these transforms into a pipeline with `transforms.Compose()`, which accepts a list of transforms and runs then in sequence. \n",
    "Example: Scale -> Crop -> convert to tensor\n",
    "\n",
    "```\n",
    "transforms = transforms.Compose([transforms.Resize(255),\n",
    "                                 transforms.CenterCrop(224),\n",
    "                                 transforms.ToTensor()])\n",
    "```\n",
    "\n",
    "\n",
    "\n",
    "\n",
    "#### Data Loaders\n",
    "With the `ImageFolder` loaded, you have to pass it to a `DataLoader`. The `DataLoader` takes a dataset and returns batches of images and the corresponding labels.\n",
    "\n",
    "```\n",
    "dataloader = torch.utils.data.DataLoader(dataset, batch_size=32, shuffle=True)\n",
    "\n",
    "```\n",
    "\n",
    "Here `dataloader` is a generator. To get data out of it, you need to loop through it or convert it to an iterator and call `next()`\n",
    "\n",
    "```\n",
    "# Looping through it, get a batch on each loop\n",
    "for images, labels in dataloader:\n",
    "    pass\n",
    "    \n",
    "# Get one batch\n",
    "images, labels = next(iter(dataloader))\n",
    "\n",
    "```"
   ]
  },
  {
   "cell_type": "markdown",
   "metadata": {},
   "source": [
    "#### Exercise\n"
   ]
  },
  {
   "cell_type": "code",
   "execution_count": null,
   "metadata": {},
   "outputs": [],
   "source": []
  }
 ],
 "metadata": {
  "kernelspec": {
   "display_name": "Python 3",
   "language": "python",
   "name": "python3"
  },
  "language_info": {
   "codemirror_mode": {
    "name": "ipython",
    "version": 3
   },
   "file_extension": ".py",
   "mimetype": "text/x-python",
   "name": "python",
   "nbconvert_exporter": "python",
   "pygments_lexer": "ipython3",
   "version": "3.6.5"
  }
 },
 "nbformat": 4,
 "nbformat_minor": 2
}
